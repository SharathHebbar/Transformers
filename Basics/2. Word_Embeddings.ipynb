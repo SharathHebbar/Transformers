{
  "nbformat": 4,
  "nbformat_minor": 0,
  "metadata": {
    "colab": {
      "provenance": []
    },
    "kernelspec": {
      "name": "python3",
      "display_name": "Python 3"
    },
    "language_info": {
      "name": "python"
    }
  },
  "cells": [
    {
      "cell_type": "markdown",
      "source": [
        "# Install Necessary packages\n"
      ],
      "metadata": {
        "id": "0jCbJoFMLGzJ"
      }
    },
    {
      "cell_type": "code",
      "source": [
        "!pip install transformers"
      ],
      "metadata": {
        "colab": {
          "base_uri": "https://localhost:8080/"
        },
        "id": "5wg8Ce47K_Qo",
        "outputId": "b26cb5e6-9083-4766-9d1b-886b7052a98e"
      },
      "execution_count": 28,
      "outputs": [
        {
          "output_type": "stream",
          "name": "stdout",
          "text": [
            "Requirement already satisfied: transformers in /usr/local/lib/python3.10/dist-packages (4.34.1)\n",
            "Requirement already satisfied: filelock in /usr/local/lib/python3.10/dist-packages (from transformers) (3.12.4)\n",
            "Requirement already satisfied: huggingface-hub<1.0,>=0.16.4 in /usr/local/lib/python3.10/dist-packages (from transformers) (0.17.3)\n",
            "Requirement already satisfied: numpy>=1.17 in /usr/local/lib/python3.10/dist-packages (from transformers) (1.23.5)\n",
            "Requirement already satisfied: packaging>=20.0 in /usr/local/lib/python3.10/dist-packages (from transformers) (23.2)\n",
            "Requirement already satisfied: pyyaml>=5.1 in /usr/local/lib/python3.10/dist-packages (from transformers) (6.0.1)\n",
            "Requirement already satisfied: regex!=2019.12.17 in /usr/local/lib/python3.10/dist-packages (from transformers) (2023.6.3)\n",
            "Requirement already satisfied: requests in /usr/local/lib/python3.10/dist-packages (from transformers) (2.31.0)\n",
            "Requirement already satisfied: tokenizers<0.15,>=0.14 in /usr/local/lib/python3.10/dist-packages (from transformers) (0.14.1)\n",
            "Requirement already satisfied: safetensors>=0.3.1 in /usr/local/lib/python3.10/dist-packages (from transformers) (0.4.0)\n",
            "Requirement already satisfied: tqdm>=4.27 in /usr/local/lib/python3.10/dist-packages (from transformers) (4.66.1)\n",
            "Requirement already satisfied: fsspec in /usr/local/lib/python3.10/dist-packages (from huggingface-hub<1.0,>=0.16.4->transformers) (2023.6.0)\n",
            "Requirement already satisfied: typing-extensions>=3.7.4.3 in /usr/local/lib/python3.10/dist-packages (from huggingface-hub<1.0,>=0.16.4->transformers) (4.5.0)\n",
            "Requirement already satisfied: charset-normalizer<4,>=2 in /usr/local/lib/python3.10/dist-packages (from requests->transformers) (3.3.0)\n",
            "Requirement already satisfied: idna<4,>=2.5 in /usr/local/lib/python3.10/dist-packages (from requests->transformers) (3.4)\n",
            "Requirement already satisfied: urllib3<3,>=1.21.1 in /usr/local/lib/python3.10/dist-packages (from requests->transformers) (2.0.7)\n",
            "Requirement already satisfied: certifi>=2017.4.17 in /usr/local/lib/python3.10/dist-packages (from requests->transformers) (2023.7.22)\n"
          ]
        }
      ]
    },
    {
      "cell_type": "markdown",
      "source": [
        "# Importing Libraries"
      ],
      "metadata": {
        "id": "hmsVJ7rYLOGH"
      }
    },
    {
      "cell_type": "code",
      "source": [
        "from transformers import BertModel, AutoTokenizer\n",
        "from scipy.spatial.distance import cosine"
      ],
      "metadata": {
        "id": "U9mEYdukK_TY"
      },
      "execution_count": 30,
      "outputs": []
    },
    {
      "cell_type": "markdown",
      "source": [
        "## Instantiate Model and tokenizer"
      ],
      "metadata": {
        "id": "vw9-DjUYLbtI"
      }
    },
    {
      "cell_type": "code",
      "source": [
        "model_name = 'bert-base-cased'\n",
        "model = BertModel.from_pretrained(model_name)\n",
        "tokenizer = AutoTokenizer.from_pretrained(model_name)"
      ],
      "metadata": {
        "id": "Cbhye1NmK_Vo"
      },
      "execution_count": 31,
      "outputs": []
    },
    {
      "cell_type": "markdown",
      "source": [
        "## Input Text"
      ],
      "metadata": {
        "id": "IusHeX6ILqFA"
      }
    },
    {
      "cell_type": "code",
      "source": [
        "text = \"Tokenize this sentence.\"\n",
        "encoded_inputs = tokenizer(text, return_tensors='pt')"
      ],
      "metadata": {
        "id": "Cgzo68FjK_X_"
      },
      "execution_count": 33,
      "outputs": []
    },
    {
      "cell_type": "markdown",
      "source": [
        "## Peeking into tokenizer output\n",
        "- The length of input ids is 8"
      ],
      "metadata": {
        "id": "BPSU5QYxL1Oy"
      }
    },
    {
      "cell_type": "code",
      "source": [
        "tokenizer(text)"
      ],
      "metadata": {
        "colab": {
          "base_uri": "https://localhost:8080/"
        },
        "id": "790tcRlVK_aA",
        "outputId": "24431a08-102b-4fd5-e22e-525530b5a028"
      },
      "execution_count": 34,
      "outputs": [
        {
          "output_type": "execute_result",
          "data": {
            "text/plain": [
              "{'input_ids': [101, 1706, 6378, 3708, 1142, 5650, 119, 102], 'token_type_ids': [0, 0, 0, 0, 0, 0, 0, 0], 'attention_mask': [1, 1, 1, 1, 1, 1, 1, 1]}"
            ]
          },
          "metadata": {},
          "execution_count": 34
        }
      ]
    },
    {
      "cell_type": "code",
      "source": [
        "for i in tokenizer(text)['input_ids']:\n",
        "  print(i, tokenizer.decode(i))"
      ],
      "metadata": {
        "colab": {
          "base_uri": "https://localhost:8080/"
        },
        "id": "W6Kh0sZBMA_f",
        "outputId": "15575066-03f5-44c8-dc3d-a98ae221f273"
      },
      "execution_count": 35,
      "outputs": [
        {
          "output_type": "stream",
          "name": "stdout",
          "text": [
            "101 [CLS]\n",
            "1706 To\n",
            "6378 ##ken\n",
            "3708 ##ize\n",
            "1142 this\n",
            "5650 sentence\n",
            "119 .\n",
            "102 [SEP]\n"
          ]
        }
      ]
    },
    {
      "cell_type": "code",
      "source": [
        "encoded_inputs"
      ],
      "metadata": {
        "colab": {
          "base_uri": "https://localhost:8080/"
        },
        "id": "8WpPPpwfMA9X",
        "outputId": "c23d88e6-a72e-4927-de6a-ee8fc685b091"
      },
      "execution_count": 36,
      "outputs": [
        {
          "output_type": "execute_result",
          "data": {
            "text/plain": [
              "{'input_ids': tensor([[ 101, 1706, 6378, 3708, 1142, 5650,  119,  102]]), 'token_type_ids': tensor([[0, 0, 0, 0, 0, 0, 0, 0]]), 'attention_mask': tensor([[1, 1, 1, 1, 1, 1, 1, 1]])}"
            ]
          },
          "metadata": {},
          "execution_count": 36
        }
      ]
    },
    {
      "cell_type": "markdown",
      "source": [
        "### we cannot directly pass the tokenized input without converting them to tensor"
      ],
      "metadata": {
        "id": "X0JhJNZlMLQ_"
      }
    },
    {
      "cell_type": "code",
      "source": [
        "op = model(tokenizer(text))"
      ],
      "metadata": {
        "colab": {
          "base_uri": "https://localhost:8080/",
          "height": 322
        },
        "id": "cp4qDCunMA7J",
        "outputId": "4dc44955-2f8a-42c5-9c05-1f2afce958da"
      },
      "execution_count": 37,
      "outputs": [
        {
          "output_type": "error",
          "ename": "TypeError",
          "evalue": "ignored",
          "traceback": [
            "\u001b[0;31m---------------------------------------------------------------------------\u001b[0m",
            "\u001b[0;31mTypeError\u001b[0m                                 Traceback (most recent call last)",
            "\u001b[0;32m<ipython-input-37-89f79c0b0e5f>\u001b[0m in \u001b[0;36m<cell line: 1>\u001b[0;34m()\u001b[0m\n\u001b[0;32m----> 1\u001b[0;31m \u001b[0mop\u001b[0m \u001b[0;34m=\u001b[0m \u001b[0mmodel\u001b[0m\u001b[0;34m(\u001b[0m\u001b[0mtokenizer\u001b[0m\u001b[0;34m(\u001b[0m\u001b[0mtext\u001b[0m\u001b[0;34m)\u001b[0m\u001b[0;34m)\u001b[0m\u001b[0;34m\u001b[0m\u001b[0;34m\u001b[0m\u001b[0m\n\u001b[0m",
            "\u001b[0;32m/usr/local/lib/python3.10/dist-packages/torch/nn/modules/module.py\u001b[0m in \u001b[0;36m_wrapped_call_impl\u001b[0;34m(self, *args, **kwargs)\u001b[0m\n\u001b[1;32m   1516\u001b[0m             \u001b[0;32mreturn\u001b[0m \u001b[0mself\u001b[0m\u001b[0;34m.\u001b[0m\u001b[0m_compiled_call_impl\u001b[0m\u001b[0;34m(\u001b[0m\u001b[0;34m*\u001b[0m\u001b[0margs\u001b[0m\u001b[0;34m,\u001b[0m \u001b[0;34m**\u001b[0m\u001b[0mkwargs\u001b[0m\u001b[0;34m)\u001b[0m  \u001b[0;31m# type: ignore[misc]\u001b[0m\u001b[0;34m\u001b[0m\u001b[0;34m\u001b[0m\u001b[0m\n\u001b[1;32m   1517\u001b[0m         \u001b[0;32melse\u001b[0m\u001b[0;34m:\u001b[0m\u001b[0;34m\u001b[0m\u001b[0;34m\u001b[0m\u001b[0m\n\u001b[0;32m-> 1518\u001b[0;31m             \u001b[0;32mreturn\u001b[0m \u001b[0mself\u001b[0m\u001b[0;34m.\u001b[0m\u001b[0m_call_impl\u001b[0m\u001b[0;34m(\u001b[0m\u001b[0;34m*\u001b[0m\u001b[0margs\u001b[0m\u001b[0;34m,\u001b[0m \u001b[0;34m**\u001b[0m\u001b[0mkwargs\u001b[0m\u001b[0;34m)\u001b[0m\u001b[0;34m\u001b[0m\u001b[0;34m\u001b[0m\u001b[0m\n\u001b[0m\u001b[1;32m   1519\u001b[0m \u001b[0;34m\u001b[0m\u001b[0m\n\u001b[1;32m   1520\u001b[0m     \u001b[0;32mdef\u001b[0m \u001b[0m_call_impl\u001b[0m\u001b[0;34m(\u001b[0m\u001b[0mself\u001b[0m\u001b[0;34m,\u001b[0m \u001b[0;34m*\u001b[0m\u001b[0margs\u001b[0m\u001b[0;34m,\u001b[0m \u001b[0;34m**\u001b[0m\u001b[0mkwargs\u001b[0m\u001b[0;34m)\u001b[0m\u001b[0;34m:\u001b[0m\u001b[0;34m\u001b[0m\u001b[0;34m\u001b[0m\u001b[0m\n",
            "\u001b[0;32m/usr/local/lib/python3.10/dist-packages/torch/nn/modules/module.py\u001b[0m in \u001b[0;36m_call_impl\u001b[0;34m(self, *args, **kwargs)\u001b[0m\n\u001b[1;32m   1525\u001b[0m                 \u001b[0;32mor\u001b[0m \u001b[0m_global_backward_pre_hooks\u001b[0m \u001b[0;32mor\u001b[0m \u001b[0m_global_backward_hooks\u001b[0m\u001b[0;34m\u001b[0m\u001b[0;34m\u001b[0m\u001b[0m\n\u001b[1;32m   1526\u001b[0m                 or _global_forward_hooks or _global_forward_pre_hooks):\n\u001b[0;32m-> 1527\u001b[0;31m             \u001b[0;32mreturn\u001b[0m \u001b[0mforward_call\u001b[0m\u001b[0;34m(\u001b[0m\u001b[0;34m*\u001b[0m\u001b[0margs\u001b[0m\u001b[0;34m,\u001b[0m \u001b[0;34m**\u001b[0m\u001b[0mkwargs\u001b[0m\u001b[0;34m)\u001b[0m\u001b[0;34m\u001b[0m\u001b[0;34m\u001b[0m\u001b[0m\n\u001b[0m\u001b[1;32m   1528\u001b[0m \u001b[0;34m\u001b[0m\u001b[0m\n\u001b[1;32m   1529\u001b[0m         \u001b[0;32mtry\u001b[0m\u001b[0;34m:\u001b[0m\u001b[0;34m\u001b[0m\u001b[0;34m\u001b[0m\u001b[0m\n",
            "\u001b[0;32m/usr/local/lib/python3.10/dist-packages/transformers/models/bert/modeling_bert.py\u001b[0m in \u001b[0;36mforward\u001b[0;34m(self, input_ids, attention_mask, token_type_ids, position_ids, head_mask, inputs_embeds, encoder_hidden_states, encoder_attention_mask, past_key_values, use_cache, output_attentions, output_hidden_states, return_dict)\u001b[0m\n\u001b[1;32m    967\u001b[0m             \u001b[0;32mraise\u001b[0m \u001b[0mValueError\u001b[0m\u001b[0;34m(\u001b[0m\u001b[0;34m\"You cannot specify both input_ids and inputs_embeds at the same time\"\u001b[0m\u001b[0;34m)\u001b[0m\u001b[0;34m\u001b[0m\u001b[0;34m\u001b[0m\u001b[0m\n\u001b[1;32m    968\u001b[0m         \u001b[0;32melif\u001b[0m \u001b[0minput_ids\u001b[0m \u001b[0;32mis\u001b[0m \u001b[0;32mnot\u001b[0m \u001b[0;32mNone\u001b[0m\u001b[0;34m:\u001b[0m\u001b[0;34m\u001b[0m\u001b[0;34m\u001b[0m\u001b[0m\n\u001b[0;32m--> 969\u001b[0;31m             \u001b[0mself\u001b[0m\u001b[0;34m.\u001b[0m\u001b[0mwarn_if_padding_and_no_attention_mask\u001b[0m\u001b[0;34m(\u001b[0m\u001b[0minput_ids\u001b[0m\u001b[0;34m,\u001b[0m \u001b[0mattention_mask\u001b[0m\u001b[0;34m)\u001b[0m\u001b[0;34m\u001b[0m\u001b[0;34m\u001b[0m\u001b[0m\n\u001b[0m\u001b[1;32m    970\u001b[0m             \u001b[0minput_shape\u001b[0m \u001b[0;34m=\u001b[0m \u001b[0minput_ids\u001b[0m\u001b[0;34m.\u001b[0m\u001b[0msize\u001b[0m\u001b[0;34m(\u001b[0m\u001b[0;34m)\u001b[0m\u001b[0;34m\u001b[0m\u001b[0;34m\u001b[0m\u001b[0m\n\u001b[1;32m    971\u001b[0m         \u001b[0;32melif\u001b[0m \u001b[0minputs_embeds\u001b[0m \u001b[0;32mis\u001b[0m \u001b[0;32mnot\u001b[0m \u001b[0;32mNone\u001b[0m\u001b[0;34m:\u001b[0m\u001b[0;34m\u001b[0m\u001b[0;34m\u001b[0m\u001b[0m\n",
            "\u001b[0;32m/usr/local/lib/python3.10/dist-packages/transformers/modeling_utils.py\u001b[0m in \u001b[0;36mwarn_if_padding_and_no_attention_mask\u001b[0;34m(self, input_ids, attention_mask)\u001b[0m\n\u001b[1;32m   3939\u001b[0m \u001b[0;34m\u001b[0m\u001b[0m\n\u001b[1;32m   3940\u001b[0m         \u001b[0;31m# Check only the first and last input IDs to reduce overhead.\u001b[0m\u001b[0;34m\u001b[0m\u001b[0;34m\u001b[0m\u001b[0m\n\u001b[0;32m-> 3941\u001b[0;31m         \u001b[0;32mif\u001b[0m \u001b[0mself\u001b[0m\u001b[0;34m.\u001b[0m\u001b[0mconfig\u001b[0m\u001b[0;34m.\u001b[0m\u001b[0mpad_token_id\u001b[0m \u001b[0;32min\u001b[0m \u001b[0minput_ids\u001b[0m\u001b[0;34m[\u001b[0m\u001b[0;34m:\u001b[0m\u001b[0;34m,\u001b[0m \u001b[0;34m[\u001b[0m\u001b[0;34m-\u001b[0m\u001b[0;36m1\u001b[0m\u001b[0;34m,\u001b[0m \u001b[0;36m0\u001b[0m\u001b[0;34m]\u001b[0m\u001b[0;34m]\u001b[0m\u001b[0;34m:\u001b[0m\u001b[0;34m\u001b[0m\u001b[0;34m\u001b[0m\u001b[0m\n\u001b[0m\u001b[1;32m   3942\u001b[0m             warn_string = (\n\u001b[1;32m   3943\u001b[0m                 \u001b[0;34m\"We strongly recommend passing in an `attention_mask` since your input_ids may be padded. See \"\u001b[0m\u001b[0;34m\u001b[0m\u001b[0;34m\u001b[0m\u001b[0m\n",
            "\u001b[0;32m/usr/local/lib/python3.10/dist-packages/transformers/tokenization_utils_base.py\u001b[0m in \u001b[0;36m__getitem__\u001b[0;34m(self, item)\u001b[0m\n\u001b[1;32m    253\u001b[0m             \u001b[0;32mreturn\u001b[0m \u001b[0mself\u001b[0m\u001b[0;34m.\u001b[0m\u001b[0mdata\u001b[0m\u001b[0;34m[\u001b[0m\u001b[0mitem\u001b[0m\u001b[0;34m]\u001b[0m\u001b[0;34m\u001b[0m\u001b[0;34m\u001b[0m\u001b[0m\n\u001b[1;32m    254\u001b[0m         \u001b[0;32melif\u001b[0m \u001b[0mself\u001b[0m\u001b[0;34m.\u001b[0m\u001b[0m_encodings\u001b[0m \u001b[0;32mis\u001b[0m \u001b[0;32mnot\u001b[0m \u001b[0;32mNone\u001b[0m\u001b[0;34m:\u001b[0m\u001b[0;34m\u001b[0m\u001b[0;34m\u001b[0m\u001b[0m\n\u001b[0;32m--> 255\u001b[0;31m             \u001b[0;32mreturn\u001b[0m \u001b[0mself\u001b[0m\u001b[0;34m.\u001b[0m\u001b[0m_encodings\u001b[0m\u001b[0;34m[\u001b[0m\u001b[0mitem\u001b[0m\u001b[0;34m]\u001b[0m\u001b[0;34m\u001b[0m\u001b[0;34m\u001b[0m\u001b[0m\n\u001b[0m\u001b[1;32m    256\u001b[0m         \u001b[0;32melif\u001b[0m \u001b[0misinstance\u001b[0m\u001b[0;34m(\u001b[0m\u001b[0mitem\u001b[0m\u001b[0;34m,\u001b[0m \u001b[0mslice\u001b[0m\u001b[0;34m)\u001b[0m\u001b[0;34m:\u001b[0m\u001b[0;34m\u001b[0m\u001b[0;34m\u001b[0m\u001b[0m\n\u001b[1;32m    257\u001b[0m             \u001b[0;32mreturn\u001b[0m \u001b[0;34m{\u001b[0m\u001b[0mkey\u001b[0m\u001b[0;34m:\u001b[0m \u001b[0mself\u001b[0m\u001b[0;34m.\u001b[0m\u001b[0mdata\u001b[0m\u001b[0;34m[\u001b[0m\u001b[0mkey\u001b[0m\u001b[0;34m]\u001b[0m\u001b[0;34m[\u001b[0m\u001b[0mitem\u001b[0m\u001b[0;34m]\u001b[0m \u001b[0;32mfor\u001b[0m \u001b[0mkey\u001b[0m \u001b[0;32min\u001b[0m \u001b[0mself\u001b[0m\u001b[0;34m.\u001b[0m\u001b[0mdata\u001b[0m\u001b[0;34m.\u001b[0m\u001b[0mkeys\u001b[0m\u001b[0;34m(\u001b[0m\u001b[0;34m)\u001b[0m\u001b[0;34m}\u001b[0m\u001b[0;34m\u001b[0m\u001b[0;34m\u001b[0m\u001b[0m\n",
            "\u001b[0;31mTypeError\u001b[0m: list indices must be integers or slices, not tuple"
          ]
        }
      ]
    },
    {
      "cell_type": "markdown",
      "source": [
        "## The output contains last_hidden_state and pooler"
      ],
      "metadata": {
        "id": "56WddFwDMVQQ"
      }
    },
    {
      "cell_type": "code",
      "source": [
        "output_tensors = model(**encoded_inputs)\n",
        "len(output_tensors)"
      ],
      "metadata": {
        "colab": {
          "base_uri": "https://localhost:8080/"
        },
        "id": "JNqXklJ1MA4w",
        "outputId": "bdb317c5-834b-469e-ba75-4a829ca51f3a"
      },
      "execution_count": 38,
      "outputs": [
        {
          "output_type": "execute_result",
          "data": {
            "text/plain": [
              "2"
            ]
          },
          "metadata": {},
          "execution_count": 38
        }
      ]
    },
    {
      "cell_type": "code",
      "source": [
        "output_tensors"
      ],
      "metadata": {
        "colab": {
          "base_uri": "https://localhost:8080/"
        },
        "id": "D6zZ_ixRK_eY",
        "outputId": "eed83b55-e8e6-4fe8-890a-9268097fede2"
      },
      "execution_count": 39,
      "outputs": [
        {
          "output_type": "execute_result",
          "data": {
            "text/plain": [
              "BaseModelOutputWithPoolingAndCrossAttentions(last_hidden_state=tensor([[[ 0.4213, -0.2407,  0.1908,  ..., -0.1027,  0.5183, -0.0046],\n",
              "         [ 0.7725, -0.3789,  0.5518,  ..., -0.0847,  0.5502, -0.2157],\n",
              "         [ 0.1887,  0.5992, -0.2414,  ...,  0.1579, -0.3802,  0.3046],\n",
              "         ...,\n",
              "         [ 0.1322,  0.4504,  0.5448,  ...,  0.3998,  0.3763,  0.2778],\n",
              "         [ 0.3326, -0.0751,  0.3363,  ...,  0.2181,  0.6169,  0.1773],\n",
              "         [ 0.1542, -0.3884, -0.2581,  ..., -0.0109,  1.1220, -0.2223]]],\n",
              "       grad_fn=<NativeLayerNormBackward0>), pooler_output=tensor([[-7.4529e-01,  5.4090e-01,  9.9995e-01, -9.9483e-01,  9.7282e-01,\n",
              "          7.8383e-01,  9.8817e-01, -9.7496e-01, -9.7366e-01, -7.3730e-01,\n",
              "          9.8630e-01,  9.9891e-01, -9.9493e-01, -9.9988e-01,  5.1780e-01,\n",
              "         -9.7315e-01,  9.9459e-01, -6.4008e-01, -9.9998e-01, -4.0078e-01,\n",
              "         -6.1211e-01, -9.9990e-01,  1.7728e-01,  9.4825e-01,  9.8260e-01,\n",
              "          1.4567e-01,  9.9090e-01,  9.9997e-01,  8.9886e-01, -1.5436e-01,\n",
              "          4.0871e-01, -9.9242e-01,  6.5962e-01, -9.9956e-01,  1.5749e-01,\n",
              "         -1.9587e-02,  3.3665e-01, -3.4918e-01,  8.3693e-01, -9.3075e-01,\n",
              "         -8.1834e-01, -4.1995e-01,  3.3520e-01, -6.1792e-01,  8.0808e-01,\n",
              "          2.8841e-01,  2.6908e-01, -6.4396e-02, -6.9507e-02,  9.9995e-01,\n",
              "         -9.7862e-01,  9.9976e-01, -9.8415e-01,  9.9863e-01,  9.9568e-01,\n",
              "          5.1361e-01,  9.9651e-01,  3.0734e-01, -9.9553e-01,  4.6377e-01,\n",
              "          9.6996e-01,  1.6961e-01,  9.4653e-01, -2.6921e-01,  6.8865e-02,\n",
              "         -5.7386e-01, -8.3607e-01,  2.9745e-01, -6.8682e-01,  5.2835e-01,\n",
              "          2.4903e-01,  4.0416e-01,  9.8711e-01, -9.4255e-01,  2.4374e-02,\n",
              "         -9.2401e-01,  1.9862e-01, -9.9995e-01,  9.5620e-01,  9.9998e-01,\n",
              "          3.6020e-01, -9.9970e-01,  9.9631e-01, -2.5468e-01, -6.1112e-01,\n",
              "          2.0451e-01, -9.9730e-01, -9.9955e-01,  2.5704e-02, -6.2611e-01,\n",
              "          7.7720e-01, -9.8965e-01,  4.8382e-01, -8.5400e-01,  9.9998e-01,\n",
              "         -5.8160e-01, -2.3377e-01,  4.3643e-01,  9.0562e-01, -1.9280e-01,\n",
              "         -8.4396e-01,  9.1380e-01,  9.9735e-01, -9.8787e-01,  9.9621e-01,\n",
              "          5.7425e-01, -9.6117e-01, -7.1387e-01,  5.4827e-01,  1.4581e-01,\n",
              "          9.9118e-01, -9.9172e-01, -8.7006e-01,  7.6624e-02,  9.4351e-01,\n",
              "         -8.3973e-01,  9.8866e-01,  5.3737e-01, -3.7584e-01,  9.9998e-01,\n",
              "         -1.9882e-01,  9.3757e-01,  9.9909e-01,  6.2305e-01, -6.5201e-01,\n",
              "         -3.1312e-01, -4.8661e-01,  7.6237e-01, -3.2003e-01, -5.6731e-01,\n",
              "          8.2254e-01, -9.9545e-01, -9.9427e-01,  9.9963e-01, -2.6259e-01,\n",
              "          9.9998e-01, -9.9945e-01,  9.8585e-01, -9.9997e-01, -5.7702e-01,\n",
              "         -2.3812e-01, -3.1177e-02, -9.6157e-01,  4.8676e-02,  9.9202e-01,\n",
              "          1.8595e-01, -7.6433e-01, -1.9147e-01,  3.3572e-01, -6.5082e-01,\n",
              "          7.4523e-01,  8.7371e-01, -9.7215e-01,  9.9943e-01,  9.9131e-01,\n",
              "          9.3276e-01,  9.4371e-01,  3.0420e-01, -9.3205e-01,  6.6118e-01,\n",
              "          9.8442e-01, -9.9949e-01,  7.6855e-01, -9.8796e-01,  9.9964e-01,\n",
              "          9.8168e-01,  7.5608e-01, -9.8461e-01,  9.9993e-01, -2.6396e-01,\n",
              "         -4.9264e-04, -7.1497e-02, -4.3741e-01, -9.9738e-01,  4.6853e-01,\n",
              "          5.0459e-01,  8.4459e-01,  9.9978e-01, -9.9543e-01,  9.9986e-01,\n",
              "          9.9011e-01, -1.6656e-01,  8.3754e-01,  9.9582e-01, -9.9744e-01,\n",
              "         -9.8266e-01, -9.9137e-01,  4.6830e-01,  4.7613e-01,  6.1329e-01,\n",
              "          2.3347e-01,  9.6490e-01,  9.9722e-01,  7.4458e-01, -9.9914e-01,\n",
              "         -3.5173e-01,  9.8286e-01, -1.9008e-01,  9.9998e-01, -7.9182e-02,\n",
              "         -9.9986e-01, -4.9976e-01,  8.0628e-01,  9.6472e-01, -3.4581e-01,\n",
              "          9.8253e-01, -4.4704e-01,  3.9448e-02,  9.6627e-01, -9.9954e-01,\n",
              "          9.9404e-01,  1.9989e-01,  6.1027e-01,  8.7883e-01,  9.9379e-01,\n",
              "         -7.3263e-01, -2.0830e-01,  3.5573e-01, -5.7994e-01,  9.9991e-01,\n",
              "         -9.9965e-01, -2.0226e-01,  6.4234e-01, -9.9736e-01, -9.9855e-01,\n",
              "          9.8528e-01, -1.0562e-01, -5.7151e-01, -3.2039e-01,  9.1634e-03,\n",
              "          3.3392e-01,  8.5632e-01,  9.9347e-01, -4.0597e-01, -1.0720e-01,\n",
              "         -9.9990e-01, -9.8896e-01, -8.9601e-01, -9.1292e-01,  1.2701e-01,\n",
              "          7.2396e-01, -4.5251e-01, -9.4393e-01, -9.9649e-01,  9.7092e-01,\n",
              "          4.7865e-01, -7.4230e-01, -5.4294e-01, -3.8765e-01, -9.9596e-01,\n",
              "          3.0837e-01, -7.9903e-01, -9.9884e-01,  9.9964e-01, -5.3912e-01,\n",
              "          9.9028e-01,  9.7717e-01, -9.9578e-01,  6.8499e-01, -9.9715e-01,\n",
              "         -1.4979e-01, -9.9953e-01,  1.3040e-01,  5.3084e-01, -7.4085e-02,\n",
              "         -9.8610e-02,  9.9458e-01, -9.7283e-01, -6.7001e-01,  6.9988e-01,\n",
              "         -9.9993e-01,  9.4891e-01, -2.2826e-01,  9.9926e-01,  5.2264e-01,\n",
              "         -6.1020e-02,  9.8863e-01,  8.8055e-01, -9.8990e-01, -9.9986e-01,\n",
              "          9.0223e-01,  9.9707e-01, -9.9645e-01, -2.7464e-01,  9.9995e-01,\n",
              "         -9.9570e-01, -8.6970e-01, -9.5060e-01, -9.9565e-01, -9.9978e-01,\n",
              "          2.2688e-01, -7.3143e-01,  6.5046e-02,  9.8616e-01,  9.9475e-02,\n",
              "          3.8974e-02,  9.9380e-01,  9.9693e-01,  5.3641e-02, -6.7398e-02,\n",
              "          1.9019e-01, -9.8897e-01, -9.9854e-01,  6.1843e-01,  2.7596e-01,\n",
              "         -9.9998e-01,  9.9987e-01, -9.9269e-01,  9.9966e-01,  7.3724e-01,\n",
              "         -9.8743e-01,  8.9723e-01,  7.2689e-02, -9.1619e-01,  8.1866e-02,\n",
              "          9.9994e-01,  9.8673e-01, -1.8678e-01,  2.1473e-01,  6.0244e-01,\n",
              "         -1.3575e-01,  4.7704e-01, -6.0889e-01, -4.8014e-01,  2.6186e-01,\n",
              "         -9.4575e-01,  9.7917e-01,  2.8823e-01, -9.9248e-01,  9.8932e-01,\n",
              "          5.6149e-03,  8.4599e-01, -6.5555e-01,  9.2651e-01,  9.9354e-01,\n",
              "         -1.5251e-01, -2.5243e-01, -1.4203e-01, -9.2785e-01, -9.5458e-01,\n",
              "          2.4062e-01, -9.9243e-01, -2.0320e-01,  9.6033e-01,  9.8797e-01,\n",
              "         -9.7936e-01,  9.9730e-01, -2.9864e-01,  8.6163e-01, -9.9591e-01,\n",
              "          9.9999e-01, -9.9882e-01,  3.2134e-01,  4.6396e-01, -5.9324e-01,\n",
              "         -6.9688e-02,  9.9494e-01,  9.6710e-01,  9.5056e-01, -9.5742e-01,\n",
              "         -5.8124e-01,  8.8097e-01,  9.6175e-01, -9.4918e-01, -4.5732e-02,\n",
              "         -9.9829e-01, -1.9036e-01,  9.9864e-01,  9.9189e-01, -8.0164e-02,\n",
              "         -4.6278e-01, -9.9217e-01,  9.5826e-01, -8.2104e-01, -8.0748e-01,\n",
              "         -2.0935e-01, -7.4763e-01,  6.6259e-01,  9.9709e-01, -4.2267e-01,\n",
              "          7.3721e-01,  2.1543e-01, -9.9191e-01,  8.3832e-01,  7.7545e-01,\n",
              "          9.9988e-01, -9.8484e-01,  4.0484e-02,  9.8805e-01, -3.2609e-01,\n",
              "         -7.0499e-01,  6.8535e-01,  9.9730e-01, -9.5296e-01, -2.9846e-01,\n",
              "         -9.9973e-01, -6.5914e-03, -7.0538e-01, -5.2785e-02, -3.9163e-01,\n",
              "          9.7896e-02, -7.4925e-01,  8.9933e-01, -2.1225e-01,  8.8858e-01,\n",
              "         -9.3413e-03,  9.8611e-01,  2.9533e-01, -1.3209e-01, -3.5389e-01,\n",
              "         -1.2830e-01,  5.3765e-01,  6.6914e-02,  9.8314e-01, -9.8042e-01,\n",
              "          9.9991e-01, -6.0421e-01, -9.9997e-01, -9.9433e-01, -6.0286e-01,\n",
              "         -9.9987e-01,  5.5907e-01, -9.9796e-01,  9.8955e-01,  8.0427e-01,\n",
              "         -9.9590e-01, -9.9848e-01, -9.9911e-01, -9.9922e-01,  5.2354e-01,\n",
              "          4.4326e-01, -7.2971e-02,  2.5115e-01,  9.0988e-01,  6.5081e-02,\n",
              "          3.3454e-01, -1.3848e-01, -9.5853e-01, -1.9096e-01, -9.9697e-01,\n",
              "          7.5607e-01, -9.9997e-01, -5.3553e-01,  9.9440e-01, -9.9075e-01,\n",
              "         -9.2812e-01, -9.5116e-01, -3.5745e-01, -8.8432e-01,  6.1301e-01,\n",
              "          9.8571e-01, -2.4621e-01, -4.5984e-01, -9.9983e-01,  9.9152e-01,\n",
              "         -7.2955e-01,  9.7096e-02, -8.4634e-01, -9.8745e-01,  9.9984e-01,\n",
              "          8.2184e-01, -6.4819e-02, -2.0054e-01, -9.9947e-01,  9.6131e-01,\n",
              "         -8.8289e-01, -8.3528e-01, -9.8972e-01,  2.9494e-01, -9.6502e-01,\n",
              "         -9.9993e-01, -3.6431e-03,  9.9355e-01,  9.9803e-01,  9.8421e-01,\n",
              "          4.2431e-01, -4.3293e-01, -9.4992e-01,  1.8891e-01, -9.9997e-01,\n",
              "          6.0591e-01,  7.8296e-01, -9.8781e-01, -4.7197e-01,  9.9282e-01,\n",
              "          9.8667e-01, -8.3862e-01, -9.5641e-01,  8.3067e-01,  5.4270e-01,\n",
              "          9.7253e-01, -3.8497e-01, -5.6374e-01,  4.2760e-01, -5.9451e-02,\n",
              "         -9.9281e-01, -9.6711e-01,  9.9682e-01, -9.9769e-01,  9.7572e-01,\n",
              "          9.9340e-01,  9.9656e-01, -1.9633e-01, -1.1674e-01, -9.6708e-01,\n",
              "         -9.9876e-01, -6.7890e-01,  2.5517e-01, -9.9996e-01,  9.9995e-01,\n",
              "         -9.9998e-01,  3.7692e-01, -5.4568e-01,  7.8119e-01,  9.9176e-01,\n",
              "         -3.1849e-01, -9.9994e-01, -9.9991e-01,  3.6171e-01,  1.3263e-01,\n",
              "          9.9395e-01,  1.2096e-01,  3.6245e-01, -4.1424e-01,  4.7390e-01,\n",
              "          9.9773e-01, -3.1609e-01, -3.0235e-01, -9.9458e-01,  9.9975e-01,\n",
              "          6.3459e-01, -9.9879e-01,  9.8365e-01, -9.9975e-01,  8.1713e-01,\n",
              "          9.8051e-01,  9.5560e-01,  9.8537e-01, -9.9729e-01,  9.9998e-01,\n",
              "         -9.9989e-01,  9.9864e-01, -9.9998e-01, -9.9806e-01,  9.9985e-01,\n",
              "         -9.9481e-01, -2.6246e-01, -9.9977e-01, -9.9217e-01,  3.0014e-01,\n",
              "          2.2348e-01, -6.3972e-01,  9.9133e-01, -9.9989e-01, -9.9897e-01,\n",
              "         -2.6680e-01, -7.2411e-01, -6.6607e-01,  9.8778e-01, -5.2175e-01,\n",
              "          9.9188e-01, -1.0451e-01,  9.7137e-01,  3.6111e-01,  9.9238e-01,\n",
              "          9.9946e-01, -6.7534e-01, -5.9365e-01, -9.9506e-01,  9.9281e-01,\n",
              "         -3.4232e-01,  4.3218e-01,  9.7853e-01, -1.0250e-01, -6.9310e-01,\n",
              "          4.4285e-01, -9.9816e-01,  4.4032e-01, -8.2890e-01,  8.7935e-01,\n",
              "          7.3790e-01,  8.8697e-01,  1.3109e-02, -4.4326e-01, -1.8574e-01,\n",
              "         -9.9535e-01,  5.3389e-01, -9.9964e-01,  9.8652e-01, -9.3630e-01,\n",
              "          9.7828e-02, -5.0857e-01,  4.4954e-01, -9.3769e-01,  9.9977e-01,\n",
              "          9.9924e-01, -9.9976e-01,  8.2962e-02,  9.9052e-01, -5.2323e-01,\n",
              "          9.8440e-01, -9.9550e-01, -3.6347e-02,  9.3355e-01, -7.9803e-01,\n",
              "          9.9034e-01,  2.2058e-01, -2.7488e-01,  9.8292e-01, -9.9658e-01,\n",
              "         -8.1624e-01, -7.5444e-01,  1.7161e-01,  3.8835e-01, -9.8212e-01,\n",
              "          1.5190e-01,  9.6628e-01, -2.9080e-01, -9.9974e-01,  6.3474e-01,\n",
              "         -9.9964e-01, -3.1275e-01,  9.8870e-01,  3.0694e-01,  9.9994e-01,\n",
              "         -6.6368e-01,  2.4735e-02,  1.1930e-01, -9.9981e-01, -9.9651e-01,\n",
              "          1.6942e-01, -1.6691e-01, -6.9204e-01,  9.9807e-01, -1.8814e-01,\n",
              "          5.1127e-01, -9.9994e-01,  4.1175e-01,  9.9172e-01,  4.1987e-01,\n",
              "          9.2083e-01, -6.0069e-01, -9.7462e-01, -8.9490e-01, -6.8907e-01,\n",
              "          9.2583e-03,  7.2407e-01, -9.7062e-01, -6.0344e-01, -8.1394e-01,\n",
              "          9.9998e-01, -9.9812e-01, -9.4978e-01, -9.9385e-01,  3.1783e-01,\n",
              "          7.7982e-01,  5.3738e-01,  1.5377e-01, -6.9348e-01,  8.5441e-01,\n",
              "         -8.5022e-01,  9.9773e-01, -9.9602e-01, -9.9723e-01,  9.9985e-01,\n",
              "          3.2464e-01, -9.8563e-01,  1.9584e-01, -2.5866e-01,  1.4406e-01,\n",
              "          1.1146e-02,  7.3588e-01, -8.3080e-01, -2.2218e-01, -9.9877e-01,\n",
              "          6.5563e-01, -7.1912e-01, -9.8759e-01, -6.6359e-01, -4.4143e-01,\n",
              "         -9.9966e-01,  9.9551e-01,  9.8336e-01,  9.9997e-01, -9.9986e-01,\n",
              "          8.8683e-01,  2.1862e-01,  9.9911e-01,  1.2541e-02, -6.6893e-01,\n",
              "          7.8533e-01,  9.9975e-01, -5.1772e-01,  8.0027e-01,  3.5159e-02,\n",
              "         -7.2172e-02,  2.4345e-01, -3.9658e-01,  9.9131e-01, -8.3910e-01,\n",
              "          3.5397e-01, -9.8752e-01, -9.9996e-01,  9.9995e-01, -1.0679e-01,\n",
              "          9.9400e-01,  4.0190e-01,  5.9239e-01, -8.9224e-01,  9.5724e-01,\n",
              "         -9.6230e-01, -9.4885e-01, -9.9998e-01,  4.6917e-01, -9.9986e-01,\n",
              "         -9.9373e-01,  1.3474e-01,  9.8913e-01, -9.9968e-01, -9.8917e-01,\n",
              "         -2.0234e-01, -9.9998e-01,  8.8511e-01, -9.6962e-01, -6.2644e-01,\n",
              "         -9.9041e-01,  9.9520e-01, -4.3580e-01, -3.4496e-01,  9.8382e-01,\n",
              "         -9.7391e-01,  8.9324e-01,  8.4106e-01,  8.1184e-01,  3.2019e-01,\n",
              "          2.7359e-01, -7.2603e-01, -9.8933e-01, -8.4370e-01, -9.7836e-01,\n",
              "          6.3320e-01, -9.9134e-01, -8.8491e-01,  9.9822e-01,  9.9260e-01,\n",
              "         -9.9970e-01, -9.9677e-01,  9.8946e-01,  7.1644e-02,  9.9304e-01,\n",
              "         -6.2015e-01, -9.9992e-01, -9.9992e-01,  2.9244e-01, -2.8775e-01,\n",
              "          9.9600e-01, -4.3679e-01,  9.9928e-01,  7.8755e-01, -2.7393e-01,\n",
              "          3.2404e-01, -6.1238e-01, -1.2002e-01, -1.9940e-01, -1.9393e-01,\n",
              "          9.9998e-01, -4.8659e-01,  9.9240e-01]], grad_fn=<TanhBackward0>), hidden_states=None, past_key_values=None, attentions=None, cross_attentions=None)"
            ]
          },
          "metadata": {},
          "execution_count": 39
        }
      ]
    },
    {
      "cell_type": "code",
      "source": [
        "output_tensors[0].shape, output_tensors[1].shape"
      ],
      "metadata": {
        "colab": {
          "base_uri": "https://localhost:8080/"
        },
        "id": "hhoVi_eDMihx",
        "outputId": "79079b2f-d7a6-4184-8558-60228075e067"
      },
      "execution_count": 40,
      "outputs": [
        {
          "output_type": "execute_result",
          "data": {
            "text/plain": [
              "(torch.Size([1, 8, 768]), torch.Size([1, 768]))"
            ]
          },
          "metadata": {},
          "execution_count": 40
        }
      ]
    },
    {
      "cell_type": "code",
      "source": [
        "output_tensors[0][0].shape"
      ],
      "metadata": {
        "colab": {
          "base_uri": "https://localhost:8080/"
        },
        "id": "UafKABhlMo1T",
        "outputId": "654f572d-e899-4ac2-925c-b89f48f4b3a2"
      },
      "execution_count": 41,
      "outputs": [
        {
          "output_type": "execute_result",
          "data": {
            "text/plain": [
              "torch.Size([8, 768])"
            ]
          },
          "metadata": {},
          "execution_count": 41
        }
      ]
    },
    {
      "cell_type": "code",
      "source": [
        "last_hidden_state = output_tensors.last_hidden_state\n",
        "pooler_output = output_tensors.pooler_output"
      ],
      "metadata": {
        "id": "LbPe6TOcMq2M"
      },
      "execution_count": 43,
      "outputs": []
    },
    {
      "cell_type": "markdown",
      "source": [
        "### The 8, 768 shows the 8 tokenized words in the context of 768 embedding dimension (vector space or direction)."
      ],
      "metadata": {
        "id": "d_4Roo1KM2eA"
      }
    },
    {
      "cell_type": "markdown",
      "source": [
        "![image.png](data:image/png;base64,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)"
      ],
      "metadata": {
        "id": "oH5U7qR4N2wf"
      }
    },
    {
      "cell_type": "code",
      "source": [
        "last_hidden_state.shape, pooler_output.shape"
      ],
      "metadata": {
        "colab": {
          "base_uri": "https://localhost:8080/"
        },
        "id": "OUs3pP3hM0nR",
        "outputId": "7d16d570-4ee7-4595-aefc-1737278ba603"
      },
      "execution_count": 44,
      "outputs": [
        {
          "output_type": "execute_result",
          "data": {
            "text/plain": [
              "(torch.Size([1, 8, 768]), torch.Size([1, 768]))"
            ]
          },
          "metadata": {},
          "execution_count": 44
        }
      ]
    },
    {
      "cell_type": "code",
      "source": [
        "last_hidden_state"
      ],
      "metadata": {
        "colab": {
          "base_uri": "https://localhost:8080/"
        },
        "id": "qCaQey6DOAwP",
        "outputId": "e75871ea-8341-48db-f09c-50940c48f13c"
      },
      "execution_count": 45,
      "outputs": [
        {
          "output_type": "execute_result",
          "data": {
            "text/plain": [
              "tensor([[[ 0.4213, -0.2407,  0.1908,  ..., -0.1027,  0.5183, -0.0046],\n",
              "         [ 0.7725, -0.3789,  0.5518,  ..., -0.0847,  0.5502, -0.2157],\n",
              "         [ 0.1887,  0.5992, -0.2414,  ...,  0.1579, -0.3802,  0.3046],\n",
              "         ...,\n",
              "         [ 0.1322,  0.4504,  0.5448,  ...,  0.3998,  0.3763,  0.2778],\n",
              "         [ 0.3326, -0.0751,  0.3363,  ...,  0.2181,  0.6169,  0.1773],\n",
              "         [ 0.1542, -0.3884, -0.2581,  ..., -0.0109,  1.1220, -0.2223]]],\n",
              "       grad_fn=<NativeLayerNormBackward0>)"
            ]
          },
          "metadata": {},
          "execution_count": 45
        }
      ]
    },
    {
      "cell_type": "code",
      "source": [
        "pooler_output"
      ],
      "metadata": {
        "colab": {
          "base_uri": "https://localhost:8080/"
        },
        "id": "ZvmlOo8YOG-t",
        "outputId": "93a7c451-d683-4241-9938-6ed06fc47ca5"
      },
      "execution_count": 46,
      "outputs": [
        {
          "output_type": "execute_result",
          "data": {
            "text/plain": [
              "tensor([[-7.4529e-01,  5.4090e-01,  9.9995e-01, -9.9483e-01,  9.7282e-01,\n",
              "          7.8383e-01,  9.8817e-01, -9.7496e-01, -9.7366e-01, -7.3730e-01,\n",
              "          9.8630e-01,  9.9891e-01, -9.9493e-01, -9.9988e-01,  5.1780e-01,\n",
              "         -9.7315e-01,  9.9459e-01, -6.4008e-01, -9.9998e-01, -4.0078e-01,\n",
              "         -6.1211e-01, -9.9990e-01,  1.7728e-01,  9.4825e-01,  9.8260e-01,\n",
              "          1.4567e-01,  9.9090e-01,  9.9997e-01,  8.9886e-01, -1.5436e-01,\n",
              "          4.0871e-01, -9.9242e-01,  6.5962e-01, -9.9956e-01,  1.5749e-01,\n",
              "         -1.9587e-02,  3.3665e-01, -3.4918e-01,  8.3693e-01, -9.3075e-01,\n",
              "         -8.1834e-01, -4.1995e-01,  3.3520e-01, -6.1792e-01,  8.0808e-01,\n",
              "          2.8841e-01,  2.6908e-01, -6.4396e-02, -6.9507e-02,  9.9995e-01,\n",
              "         -9.7862e-01,  9.9976e-01, -9.8415e-01,  9.9863e-01,  9.9568e-01,\n",
              "          5.1361e-01,  9.9651e-01,  3.0734e-01, -9.9553e-01,  4.6377e-01,\n",
              "          9.6996e-01,  1.6961e-01,  9.4653e-01, -2.6921e-01,  6.8865e-02,\n",
              "         -5.7386e-01, -8.3607e-01,  2.9745e-01, -6.8682e-01,  5.2835e-01,\n",
              "          2.4903e-01,  4.0416e-01,  9.8711e-01, -9.4255e-01,  2.4374e-02,\n",
              "         -9.2401e-01,  1.9862e-01, -9.9995e-01,  9.5620e-01,  9.9998e-01,\n",
              "          3.6020e-01, -9.9970e-01,  9.9631e-01, -2.5468e-01, -6.1112e-01,\n",
              "          2.0451e-01, -9.9730e-01, -9.9955e-01,  2.5704e-02, -6.2611e-01,\n",
              "          7.7720e-01, -9.8965e-01,  4.8382e-01, -8.5400e-01,  9.9998e-01,\n",
              "         -5.8160e-01, -2.3377e-01,  4.3643e-01,  9.0562e-01, -1.9280e-01,\n",
              "         -8.4396e-01,  9.1380e-01,  9.9735e-01, -9.8787e-01,  9.9621e-01,\n",
              "          5.7425e-01, -9.6117e-01, -7.1387e-01,  5.4827e-01,  1.4581e-01,\n",
              "          9.9118e-01, -9.9172e-01, -8.7006e-01,  7.6624e-02,  9.4351e-01,\n",
              "         -8.3973e-01,  9.8866e-01,  5.3737e-01, -3.7584e-01,  9.9998e-01,\n",
              "         -1.9882e-01,  9.3757e-01,  9.9909e-01,  6.2305e-01, -6.5201e-01,\n",
              "         -3.1312e-01, -4.8661e-01,  7.6237e-01, -3.2003e-01, -5.6731e-01,\n",
              "          8.2254e-01, -9.9545e-01, -9.9427e-01,  9.9963e-01, -2.6259e-01,\n",
              "          9.9998e-01, -9.9945e-01,  9.8585e-01, -9.9997e-01, -5.7702e-01,\n",
              "         -2.3812e-01, -3.1177e-02, -9.6157e-01,  4.8676e-02,  9.9202e-01,\n",
              "          1.8595e-01, -7.6433e-01, -1.9147e-01,  3.3572e-01, -6.5082e-01,\n",
              "          7.4523e-01,  8.7371e-01, -9.7215e-01,  9.9943e-01,  9.9131e-01,\n",
              "          9.3276e-01,  9.4371e-01,  3.0420e-01, -9.3205e-01,  6.6118e-01,\n",
              "          9.8442e-01, -9.9949e-01,  7.6855e-01, -9.8796e-01,  9.9964e-01,\n",
              "          9.8168e-01,  7.5608e-01, -9.8461e-01,  9.9993e-01, -2.6396e-01,\n",
              "         -4.9264e-04, -7.1497e-02, -4.3741e-01, -9.9738e-01,  4.6853e-01,\n",
              "          5.0459e-01,  8.4459e-01,  9.9978e-01, -9.9543e-01,  9.9986e-01,\n",
              "          9.9011e-01, -1.6656e-01,  8.3754e-01,  9.9582e-01, -9.9744e-01,\n",
              "         -9.8266e-01, -9.9137e-01,  4.6830e-01,  4.7613e-01,  6.1329e-01,\n",
              "          2.3347e-01,  9.6490e-01,  9.9722e-01,  7.4458e-01, -9.9914e-01,\n",
              "         -3.5173e-01,  9.8286e-01, -1.9008e-01,  9.9998e-01, -7.9182e-02,\n",
              "         -9.9986e-01, -4.9976e-01,  8.0628e-01,  9.6472e-01, -3.4581e-01,\n",
              "          9.8253e-01, -4.4704e-01,  3.9448e-02,  9.6627e-01, -9.9954e-01,\n",
              "          9.9404e-01,  1.9989e-01,  6.1027e-01,  8.7883e-01,  9.9379e-01,\n",
              "         -7.3263e-01, -2.0830e-01,  3.5573e-01, -5.7994e-01,  9.9991e-01,\n",
              "         -9.9965e-01, -2.0226e-01,  6.4234e-01, -9.9736e-01, -9.9855e-01,\n",
              "          9.8528e-01, -1.0562e-01, -5.7151e-01, -3.2039e-01,  9.1634e-03,\n",
              "          3.3392e-01,  8.5632e-01,  9.9347e-01, -4.0597e-01, -1.0720e-01,\n",
              "         -9.9990e-01, -9.8896e-01, -8.9601e-01, -9.1292e-01,  1.2701e-01,\n",
              "          7.2396e-01, -4.5251e-01, -9.4393e-01, -9.9649e-01,  9.7092e-01,\n",
              "          4.7865e-01, -7.4230e-01, -5.4294e-01, -3.8765e-01, -9.9596e-01,\n",
              "          3.0837e-01, -7.9903e-01, -9.9884e-01,  9.9964e-01, -5.3912e-01,\n",
              "          9.9028e-01,  9.7717e-01, -9.9578e-01,  6.8499e-01, -9.9715e-01,\n",
              "         -1.4979e-01, -9.9953e-01,  1.3040e-01,  5.3084e-01, -7.4085e-02,\n",
              "         -9.8610e-02,  9.9458e-01, -9.7283e-01, -6.7001e-01,  6.9988e-01,\n",
              "         -9.9993e-01,  9.4891e-01, -2.2826e-01,  9.9926e-01,  5.2264e-01,\n",
              "         -6.1020e-02,  9.8863e-01,  8.8055e-01, -9.8990e-01, -9.9986e-01,\n",
              "          9.0223e-01,  9.9707e-01, -9.9645e-01, -2.7464e-01,  9.9995e-01,\n",
              "         -9.9570e-01, -8.6970e-01, -9.5060e-01, -9.9565e-01, -9.9978e-01,\n",
              "          2.2688e-01, -7.3143e-01,  6.5046e-02,  9.8616e-01,  9.9475e-02,\n",
              "          3.8974e-02,  9.9380e-01,  9.9693e-01,  5.3641e-02, -6.7398e-02,\n",
              "          1.9019e-01, -9.8897e-01, -9.9854e-01,  6.1843e-01,  2.7596e-01,\n",
              "         -9.9998e-01,  9.9987e-01, -9.9269e-01,  9.9966e-01,  7.3724e-01,\n",
              "         -9.8743e-01,  8.9723e-01,  7.2689e-02, -9.1619e-01,  8.1866e-02,\n",
              "          9.9994e-01,  9.8673e-01, -1.8678e-01,  2.1473e-01,  6.0244e-01,\n",
              "         -1.3575e-01,  4.7704e-01, -6.0889e-01, -4.8014e-01,  2.6186e-01,\n",
              "         -9.4575e-01,  9.7917e-01,  2.8823e-01, -9.9248e-01,  9.8932e-01,\n",
              "          5.6149e-03,  8.4599e-01, -6.5555e-01,  9.2651e-01,  9.9354e-01,\n",
              "         -1.5251e-01, -2.5243e-01, -1.4203e-01, -9.2785e-01, -9.5458e-01,\n",
              "          2.4062e-01, -9.9243e-01, -2.0320e-01,  9.6033e-01,  9.8797e-01,\n",
              "         -9.7936e-01,  9.9730e-01, -2.9864e-01,  8.6163e-01, -9.9591e-01,\n",
              "          9.9999e-01, -9.9882e-01,  3.2134e-01,  4.6396e-01, -5.9324e-01,\n",
              "         -6.9688e-02,  9.9494e-01,  9.6710e-01,  9.5056e-01, -9.5742e-01,\n",
              "         -5.8124e-01,  8.8097e-01,  9.6175e-01, -9.4918e-01, -4.5732e-02,\n",
              "         -9.9829e-01, -1.9036e-01,  9.9864e-01,  9.9189e-01, -8.0164e-02,\n",
              "         -4.6278e-01, -9.9217e-01,  9.5826e-01, -8.2104e-01, -8.0748e-01,\n",
              "         -2.0935e-01, -7.4763e-01,  6.6259e-01,  9.9709e-01, -4.2267e-01,\n",
              "          7.3721e-01,  2.1543e-01, -9.9191e-01,  8.3832e-01,  7.7545e-01,\n",
              "          9.9988e-01, -9.8484e-01,  4.0484e-02,  9.8805e-01, -3.2609e-01,\n",
              "         -7.0499e-01,  6.8535e-01,  9.9730e-01, -9.5296e-01, -2.9846e-01,\n",
              "         -9.9973e-01, -6.5914e-03, -7.0538e-01, -5.2785e-02, -3.9163e-01,\n",
              "          9.7896e-02, -7.4925e-01,  8.9933e-01, -2.1225e-01,  8.8858e-01,\n",
              "         -9.3413e-03,  9.8611e-01,  2.9533e-01, -1.3209e-01, -3.5389e-01,\n",
              "         -1.2830e-01,  5.3765e-01,  6.6914e-02,  9.8314e-01, -9.8042e-01,\n",
              "          9.9991e-01, -6.0421e-01, -9.9997e-01, -9.9433e-01, -6.0286e-01,\n",
              "         -9.9987e-01,  5.5907e-01, -9.9796e-01,  9.8955e-01,  8.0427e-01,\n",
              "         -9.9590e-01, -9.9848e-01, -9.9911e-01, -9.9922e-01,  5.2354e-01,\n",
              "          4.4326e-01, -7.2971e-02,  2.5115e-01,  9.0988e-01,  6.5081e-02,\n",
              "          3.3454e-01, -1.3848e-01, -9.5853e-01, -1.9096e-01, -9.9697e-01,\n",
              "          7.5607e-01, -9.9997e-01, -5.3553e-01,  9.9440e-01, -9.9075e-01,\n",
              "         -9.2812e-01, -9.5116e-01, -3.5745e-01, -8.8432e-01,  6.1301e-01,\n",
              "          9.8571e-01, -2.4621e-01, -4.5984e-01, -9.9983e-01,  9.9152e-01,\n",
              "         -7.2955e-01,  9.7096e-02, -8.4634e-01, -9.8745e-01,  9.9984e-01,\n",
              "          8.2184e-01, -6.4819e-02, -2.0054e-01, -9.9947e-01,  9.6131e-01,\n",
              "         -8.8289e-01, -8.3528e-01, -9.8972e-01,  2.9494e-01, -9.6502e-01,\n",
              "         -9.9993e-01, -3.6431e-03,  9.9355e-01,  9.9803e-01,  9.8421e-01,\n",
              "          4.2431e-01, -4.3293e-01, -9.4992e-01,  1.8891e-01, -9.9997e-01,\n",
              "          6.0591e-01,  7.8296e-01, -9.8781e-01, -4.7197e-01,  9.9282e-01,\n",
              "          9.8667e-01, -8.3862e-01, -9.5641e-01,  8.3067e-01,  5.4270e-01,\n",
              "          9.7253e-01, -3.8497e-01, -5.6374e-01,  4.2760e-01, -5.9451e-02,\n",
              "         -9.9281e-01, -9.6711e-01,  9.9682e-01, -9.9769e-01,  9.7572e-01,\n",
              "          9.9340e-01,  9.9656e-01, -1.9633e-01, -1.1674e-01, -9.6708e-01,\n",
              "         -9.9876e-01, -6.7890e-01,  2.5517e-01, -9.9996e-01,  9.9995e-01,\n",
              "         -9.9998e-01,  3.7692e-01, -5.4568e-01,  7.8119e-01,  9.9176e-01,\n",
              "         -3.1849e-01, -9.9994e-01, -9.9991e-01,  3.6171e-01,  1.3263e-01,\n",
              "          9.9395e-01,  1.2096e-01,  3.6245e-01, -4.1424e-01,  4.7390e-01,\n",
              "          9.9773e-01, -3.1609e-01, -3.0235e-01, -9.9458e-01,  9.9975e-01,\n",
              "          6.3459e-01, -9.9879e-01,  9.8365e-01, -9.9975e-01,  8.1713e-01,\n",
              "          9.8051e-01,  9.5560e-01,  9.8537e-01, -9.9729e-01,  9.9998e-01,\n",
              "         -9.9989e-01,  9.9864e-01, -9.9998e-01, -9.9806e-01,  9.9985e-01,\n",
              "         -9.9481e-01, -2.6246e-01, -9.9977e-01, -9.9217e-01,  3.0014e-01,\n",
              "          2.2348e-01, -6.3972e-01,  9.9133e-01, -9.9989e-01, -9.9897e-01,\n",
              "         -2.6680e-01, -7.2411e-01, -6.6607e-01,  9.8778e-01, -5.2175e-01,\n",
              "          9.9188e-01, -1.0451e-01,  9.7137e-01,  3.6111e-01,  9.9238e-01,\n",
              "          9.9946e-01, -6.7534e-01, -5.9365e-01, -9.9506e-01,  9.9281e-01,\n",
              "         -3.4232e-01,  4.3218e-01,  9.7853e-01, -1.0250e-01, -6.9310e-01,\n",
              "          4.4285e-01, -9.9816e-01,  4.4032e-01, -8.2890e-01,  8.7935e-01,\n",
              "          7.3790e-01,  8.8697e-01,  1.3109e-02, -4.4326e-01, -1.8574e-01,\n",
              "         -9.9535e-01,  5.3389e-01, -9.9964e-01,  9.8652e-01, -9.3630e-01,\n",
              "          9.7828e-02, -5.0857e-01,  4.4954e-01, -9.3769e-01,  9.9977e-01,\n",
              "          9.9924e-01, -9.9976e-01,  8.2962e-02,  9.9052e-01, -5.2323e-01,\n",
              "          9.8440e-01, -9.9550e-01, -3.6347e-02,  9.3355e-01, -7.9803e-01,\n",
              "          9.9034e-01,  2.2058e-01, -2.7488e-01,  9.8292e-01, -9.9658e-01,\n",
              "         -8.1624e-01, -7.5444e-01,  1.7161e-01,  3.8835e-01, -9.8212e-01,\n",
              "          1.5190e-01,  9.6628e-01, -2.9080e-01, -9.9974e-01,  6.3474e-01,\n",
              "         -9.9964e-01, -3.1275e-01,  9.8870e-01,  3.0694e-01,  9.9994e-01,\n",
              "         -6.6368e-01,  2.4735e-02,  1.1930e-01, -9.9981e-01, -9.9651e-01,\n",
              "          1.6942e-01, -1.6691e-01, -6.9204e-01,  9.9807e-01, -1.8814e-01,\n",
              "          5.1127e-01, -9.9994e-01,  4.1175e-01,  9.9172e-01,  4.1987e-01,\n",
              "          9.2083e-01, -6.0069e-01, -9.7462e-01, -8.9490e-01, -6.8907e-01,\n",
              "          9.2583e-03,  7.2407e-01, -9.7062e-01, -6.0344e-01, -8.1394e-01,\n",
              "          9.9998e-01, -9.9812e-01, -9.4978e-01, -9.9385e-01,  3.1783e-01,\n",
              "          7.7982e-01,  5.3738e-01,  1.5377e-01, -6.9348e-01,  8.5441e-01,\n",
              "         -8.5022e-01,  9.9773e-01, -9.9602e-01, -9.9723e-01,  9.9985e-01,\n",
              "          3.2464e-01, -9.8563e-01,  1.9584e-01, -2.5866e-01,  1.4406e-01,\n",
              "          1.1146e-02,  7.3588e-01, -8.3080e-01, -2.2218e-01, -9.9877e-01,\n",
              "          6.5563e-01, -7.1912e-01, -9.8759e-01, -6.6359e-01, -4.4143e-01,\n",
              "         -9.9966e-01,  9.9551e-01,  9.8336e-01,  9.9997e-01, -9.9986e-01,\n",
              "          8.8683e-01,  2.1862e-01,  9.9911e-01,  1.2541e-02, -6.6893e-01,\n",
              "          7.8533e-01,  9.9975e-01, -5.1772e-01,  8.0027e-01,  3.5159e-02,\n",
              "         -7.2172e-02,  2.4345e-01, -3.9658e-01,  9.9131e-01, -8.3910e-01,\n",
              "          3.5397e-01, -9.8752e-01, -9.9996e-01,  9.9995e-01, -1.0679e-01,\n",
              "          9.9400e-01,  4.0190e-01,  5.9239e-01, -8.9224e-01,  9.5724e-01,\n",
              "         -9.6230e-01, -9.4885e-01, -9.9998e-01,  4.6917e-01, -9.9986e-01,\n",
              "         -9.9373e-01,  1.3474e-01,  9.8913e-01, -9.9968e-01, -9.8917e-01,\n",
              "         -2.0234e-01, -9.9998e-01,  8.8511e-01, -9.6962e-01, -6.2644e-01,\n",
              "         -9.9041e-01,  9.9520e-01, -4.3580e-01, -3.4496e-01,  9.8382e-01,\n",
              "         -9.7391e-01,  8.9324e-01,  8.4106e-01,  8.1184e-01,  3.2019e-01,\n",
              "          2.7359e-01, -7.2603e-01, -9.8933e-01, -8.4370e-01, -9.7836e-01,\n",
              "          6.3320e-01, -9.9134e-01, -8.8491e-01,  9.9822e-01,  9.9260e-01,\n",
              "         -9.9970e-01, -9.9677e-01,  9.8946e-01,  7.1644e-02,  9.9304e-01,\n",
              "         -6.2015e-01, -9.9992e-01, -9.9992e-01,  2.9244e-01, -2.8775e-01,\n",
              "          9.9600e-01, -4.3679e-01,  9.9928e-01,  7.8755e-01, -2.7393e-01,\n",
              "          3.2404e-01, -6.1238e-01, -1.2002e-01, -1.9940e-01, -1.9393e-01,\n",
              "          9.9998e-01, -4.8659e-01,  9.9240e-01]], grad_fn=<TanhBackward0>)"
            ]
          },
          "metadata": {},
          "execution_count": 46
        }
      ]
    },
    {
      "cell_type": "markdown",
      "source": [
        "## Embedding function\n",
        "\n",
        "- Last Hidden state has the semantice meaning of the tokens with respect to 768 dimension\n",
        "\n",
        "- Pooler output can be used for down stream tasks like Text Classification"
      ],
      "metadata": {
        "id": "cTGyZRqkOLd0"
      }
    },
    {
      "cell_type": "code",
      "source": [
        "def predict(text):\n",
        "  encoded_inputs = tokenizer(text, return_tensors='pt')\n",
        "  return model(**encoded_inputs)[0]"
      ],
      "metadata": {
        "id": "c55j-dY2OH07"
      },
      "execution_count": 47,
      "outputs": []
    },
    {
      "cell_type": "code",
      "source": [
        "sentence1 = 'There was a fly in the tea'\n",
        "sentence2 = \"To become a commercial pilot, he has to fly for 1550 hours\""
      ],
      "metadata": {
        "id": "qc2ZuXqdOKYf"
      },
      "execution_count": 48,
      "outputs": []
    },
    {
      "cell_type": "code",
      "source": [
        "token1 = tokenizer.tokenize(sentence1)\n",
        "token2 = tokenizer.tokenize(sentence2)"
      ],
      "metadata": {
        "id": "TutOyZ9aOKWA"
      },
      "execution_count": 49,
      "outputs": []
    },
    {
      "cell_type": "code",
      "source": [
        "token1"
      ],
      "metadata": {
        "colab": {
          "base_uri": "https://localhost:8080/"
        },
        "id": "5OaVIN7aOKTm",
        "outputId": "82271e49-4433-467a-947f-025e19dbf130"
      },
      "execution_count": 50,
      "outputs": [
        {
          "output_type": "execute_result",
          "data": {
            "text/plain": [
              "['There', 'was', 'a', 'fly', 'in', 'the', 'tea']"
            ]
          },
          "metadata": {},
          "execution_count": 50
        }
      ]
    },
    {
      "cell_type": "code",
      "source": [
        "token2"
      ],
      "metadata": {
        "colab": {
          "base_uri": "https://localhost:8080/"
        },
        "id": "oxT-BrI9OKRQ",
        "outputId": "3e9cec53-6884-44cc-fcce-7f0ab55d132b"
      },
      "execution_count": 51,
      "outputs": [
        {
          "output_type": "execute_result",
          "data": {
            "text/plain": [
              "['To',\n",
              " 'become',\n",
              " 'a',\n",
              " 'commercial',\n",
              " 'pilot',\n",
              " ',',\n",
              " 'he',\n",
              " 'has',\n",
              " 'to',\n",
              " 'fly',\n",
              " 'for',\n",
              " '155',\n",
              " '##0',\n",
              " 'hours']"
            ]
          },
          "metadata": {},
          "execution_count": 51
        }
      ]
    },
    {
      "cell_type": "code",
      "source": [
        "out1 = predict(sentence1)\n",
        "out2 = predict(sentence2)"
      ],
      "metadata": {
        "id": "nrBK4leLO4s_"
      },
      "execution_count": 52,
      "outputs": []
    },
    {
      "cell_type": "markdown",
      "source": [
        "**Here we are taking everything from dim1 and taking the index of fly in dim2 and everything from dim3**"
      ],
      "metadata": {
        "id": "_bK460I8O-bv"
      }
    },
    {
      "cell_type": "code",
      "source": [
        "out1.shape"
      ],
      "metadata": {
        "colab": {
          "base_uri": "https://localhost:8080/"
        },
        "id": "hN_CZygJO9ZR",
        "outputId": "a7b4f5e7-5e57-4e37-d9ba-95e67915a1f0"
      },
      "execution_count": 53,
      "outputs": [
        {
          "output_type": "execute_result",
          "data": {
            "text/plain": [
              "torch.Size([1, 9, 768])"
            ]
          },
          "metadata": {},
          "execution_count": 53
        }
      ]
    },
    {
      "cell_type": "code",
      "source": [
        "emb1 = out1[0:, token1.index('fly'), :].detach()\n",
        "emb2 = out2[0:, token2.index('fly'), :].detach()"
      ],
      "metadata": {
        "id": "4vn3xdLJPJjj"
      },
      "execution_count": 55,
      "outputs": []
    },
    {
      "cell_type": "code",
      "source": [
        "emb1.shape, emb2.shape"
      ],
      "metadata": {
        "colab": {
          "base_uri": "https://localhost:8080/"
        },
        "id": "hTeNdiKKPRQZ",
        "outputId": "a5f3e951-55ad-4b23-8ead-7ffc65aed328"
      },
      "execution_count": 56,
      "outputs": [
        {
          "output_type": "execute_result",
          "data": {
            "text/plain": [
              "(torch.Size([1, 768]), torch.Size([1, 768]))"
            ]
          },
          "metadata": {},
          "execution_count": 56
        }
      ]
    },
    {
      "cell_type": "code",
      "source": [
        "emb11 = emb1.reshape(-1)\n",
        "emb21 = emb2.reshape(-1)\n",
        "\n",
        "emb11.shape, emb21.shape"
      ],
      "metadata": {
        "colab": {
          "base_uri": "https://localhost:8080/"
        },
        "id": "IjHqmFTaPV27",
        "outputId": "e3e092f8-69a6-4926-807a-81a79f2157b2"
      },
      "execution_count": 58,
      "outputs": [
        {
          "output_type": "execute_result",
          "data": {
            "text/plain": [
              "(torch.Size([768]), torch.Size([768]))"
            ]
          },
          "metadata": {},
          "execution_count": 58
        }
      ]
    },
    {
      "cell_type": "code",
      "source": [
        "cosine(emb11, emb21)"
      ],
      "metadata": {
        "colab": {
          "base_uri": "https://localhost:8080/"
        },
        "id": "kZPkw3ADPeI7",
        "outputId": "04666f4c-4f0e-438a-8cdb-81e941caafcd"
      },
      "execution_count": 60,
      "outputs": [
        {
          "output_type": "execute_result",
          "data": {
            "text/plain": [
              "0.4310222268104553"
            ]
          },
          "metadata": {},
          "execution_count": 60
        }
      ]
    },
    {
      "cell_type": "code",
      "source": [],
      "metadata": {
        "id": "zpVGsyfSPhsi"
      },
      "execution_count": null,
      "outputs": []
    }
  ]
}